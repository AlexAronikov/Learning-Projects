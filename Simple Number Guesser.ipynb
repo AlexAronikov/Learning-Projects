{
 "cells": [
  {
   "cell_type": "code",
   "execution_count": 3,
   "metadata": {},
   "outputs": [
    {
     "name": "stdin",
     "output_type": "stream",
     "text": [
      "How should the number be determined? (Computer, You, Default)  You\n",
      "Enter an integer between 1 and 100 to be guessed!  55\n",
      "Enter an integer between 1 and 100!  33\n"
     ]
    },
    {
     "name": "stdout",
     "output_type": "stream",
     "text": [
      "too small\n"
     ]
    },
    {
     "name": "stdin",
     "output_type": "stream",
     "text": [
      "Enter an integer between 1 and 100!  25\n"
     ]
    },
    {
     "name": "stdout",
     "output_type": "stream",
     "text": [
      "too small\n"
     ]
    },
    {
     "name": "stdin",
     "output_type": "stream",
     "text": [
      "Enter an integer between 1 and 100!  5\n"
     ]
    },
    {
     "name": "stdout",
     "output_type": "stream",
     "text": [
      "too small\n"
     ]
    },
    {
     "name": "stdin",
     "output_type": "stream",
     "text": [
      "Enter an integer between 1 and 100!  55\n"
     ]
    },
    {
     "name": "stdout",
     "output_type": "stream",
     "text": [
      "Correct!\n",
      "Number of attempts: 3\n"
     ]
    }
   ],
   "source": [
    "    setnumber=input(\"How should the number be determined? (Computer, You, Default) \")\n",
    "\n",
    "    if setnumber==\"You\":\n",
    "        number=int(input(\"Enter an integer between 1 and 100 to be guessed! \"))\n",
    "        if number<1 or number >100:\n",
    "            print(\"The number to be guessed is not within the range! Choose a number between 1 and 100\")\n",
    "    elif setnumber==\"Computer\":\n",
    "        import random\n",
    "        number=random.randint(1,100)\n",
    "    elif setnumber==\"Default\":\n",
    "        number=10\n",
    "        \n",
    "    guess=\"guessfirst\"\n",
    "    attempts=0\n",
    "    while guess != number:\n",
    "        guess=int(input(\"Enter an integer between 1 and 100! \"))\n",
    "        if guess<1 or guess >100:\n",
    "            print(\"The number is not within the range! Choose a number between 1 and 100\")\n",
    "        else:\n",
    "            if guess==number:\n",
    "                print(\"Correct!\")\n",
    "                print(F\"Number of attempts: {attempts}\")\n",
    "            else:\n",
    "                if guess>number:\n",
    "                    print(\"too large\")\n",
    "                elif guess<number:\n",
    "                    print(\"too small\")\n",
    "            attempts=attempts+1"
   ]
  },
  {
   "cell_type": "code",
   "execution_count": null,
   "metadata": {},
   "outputs": [],
   "source": []
  }
 ],
 "metadata": {
  "kernelspec": {
   "display_name": "Python 3",
   "language": "python",
   "name": "python3"
  },
  "language_info": {
   "codemirror_mode": {
    "name": "ipython",
    "version": 3
   },
   "file_extension": ".py",
   "mimetype": "text/x-python",
   "name": "python",
   "nbconvert_exporter": "python",
   "pygments_lexer": "ipython3",
   "version": "3.8.5"
  }
 },
 "nbformat": 4,
 "nbformat_minor": 4
}
